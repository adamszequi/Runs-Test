{
 "cells": [
  {
   "cell_type": "code",
   "execution_count": 35,
   "metadata": {},
   "outputs": [
    {
     "name": "stdout",
     "output_type": "stream",
     "text": [
      "Number of negative runs is: 127\n",
      "Number of positive runs is: 128\n",
      "Total runs is: 255\n"
     ]
    }
   ],
   "source": [
    "import random \n",
    "\n",
    "#set the variables and listnames\n",
    "countneg=0\n",
    "countpos=0\n",
    "x=[]\n",
    "indexes=[]\n",
    "\n",
    "#random sample generator to check efficacy of code\n",
    "y=random.sample(range(-1000,1000),500)\n",
    "x=y\n",
    "\n",
    "#print x to crosscheck by manually counting but hash x for large samples\n",
    "#print(x)\n",
    "\n",
    "#noticed that first number doesnt count if last \n",
    "#number has the same sign therefore coded this to remedy it\n",
    "if x[0]>=0 and x[-1]>=0 and x[0]>=0:\n",
    "        countpos+=1\n",
    "elif x[0]<0 and x[-1]<0 and x[0]>=0:\n",
    "        countpos+=1        \n",
    "elif x[0]<0 and x[-1]<0 and x[0]<0:\n",
    "        countneg+=1 \n",
    "elif x[0]>=0 and x[-1]>=0 and x[0]<0:\n",
    "        countneg+=1         \n",
    "\n",
    "#determine negative runs\n",
    "for i in range(len(x)):\n",
    "    if x[i] <0 and x[i-1]>=0:\n",
    "        indexes.append(i)\n",
    "        #print(i)\n",
    "        countneg+=1\n",
    "print('Number of negative runs is:',countneg)\n",
    "\n",
    "#determine positive runs\n",
    "for i in range(len(x)):\n",
    "    if x[i] >=0 and x[i-1]<0:\n",
    "        indexes.append(i)\n",
    "        #print(i)\n",
    "        countpos+=1  \n",
    "print('Number of positive runs is:',countpos)\n",
    "\n",
    "#determine total runs\n",
    "Sumofbothnegandpos=countpos+countneg    \n",
    "print('Total runs is:',Sumofbothnegandpos)"
   ]
  },
  {
   "cell_type": "code",
   "execution_count": null,
   "metadata": {},
   "outputs": [],
   "source": []
  }
 ],
 "metadata": {
  "kernelspec": {
   "display_name": "Python 3",
   "language": "python",
   "name": "python3"
  },
  "language_info": {
   "codemirror_mode": {
    "name": "ipython",
    "version": 3
   },
   "file_extension": ".py",
   "mimetype": "text/x-python",
   "name": "python",
   "nbconvert_exporter": "python",
   "pygments_lexer": "ipython3",
   "version": "3.6.8"
  }
 },
 "nbformat": 4,
 "nbformat_minor": 2
}
